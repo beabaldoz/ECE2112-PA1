{
 "cells": [
  {
   "cell_type": "markdown",
   "id": "b9edfb9b-7e85-4915-b09c-809ed16c9576",
   "metadata": {},
   "source": [
    "# ALPHABET SOUP PROBLEM"
   ]
  },
  {
   "cell_type": "code",
   "execution_count": 45,
   "id": "9599ede1-d011-4e93-973a-64d9dcd6df24",
   "metadata": {},
   "outputs": [],
   "source": [
    "def alphabet_soup(s):\n",
    "    return ''.join(sorted(s))\n",
    "    s"
   ]
  },
  {
   "cell_type": "code",
   "execution_count": 13,
   "id": "e50d2733-58cb-469a-b71d-c56757e0a465",
   "metadata": {},
   "outputs": [
    {
     "name": "stdout",
     "output_type": "stream",
     "text": [
      "ehllo\n"
     ]
    }
   ],
   "source": [
    "print(alphabetsoup(\"hello\"))"
   ]
  },
  {
   "cell_type": "code",
   "execution_count": 47,
   "id": "eba4c55f-4a13-47c4-8058-675824641339",
   "metadata": {},
   "outputs": [
    {
     "name": "stdout",
     "output_type": "stream",
     "text": [
      "acehkr\n"
     ]
    }
   ],
   "source": [
    "print(alphabet_soup(\"hacker\"))"
   ]
  },
  {
   "cell_type": "markdown",
   "id": "ce83098a-b4d6-466b-99bd-f7504dc3d99d",
   "metadata": {},
   "source": [
    "# EMOTICON PROBLEM"
   ]
  },
  {
   "cell_type": "code",
   "execution_count": 37,
   "id": "050c5df4-052e-4437-8871-9e4104e02eb5",
   "metadata": {},
   "outputs": [
    {
     "name": "stdin",
     "output_type": "stream",
     "text": [
      "Enter a Phrase:  u make me smile\n"
     ]
    },
    {
     "name": "stdout",
     "output_type": "stream",
     "text": [
      "u make me smile\n",
      "u make me :)\n"
     ]
    }
   ],
   "source": [
    "def main():\n",
    "    p = input(\"Enter a Phrase: \")\n",
    "    print(p)\n",
    "    p = convert(p)\n",
    "    print(p)\n",
    "\n",
    "def convert(p):\n",
    "    p = p.replace(\"smile\", \":)\")\n",
    "    p = p.replace(\"grin\", \":D\")\n",
    "    p = p.replace(\"sad\", \":(\")\n",
    "    p = p.replace(\"mad\", \">:(\")\n",
    "    return p\n",
    "\n",
    "main()"
   ]
  },
  {
   "cell_type": "markdown",
   "id": "8fedcf80-2eae-44cd-93df-ba54245ad463",
   "metadata": {},
   "source": [
    "# UNPACKING LIST PROBLEM"
   ]
  },
  {
   "cell_type": "code",
   "execution_count": 67,
   "id": "fb538685-772f-4704-a3c9-a3eb58d2919b",
   "metadata": {},
   "outputs": [
    {
     "name": "stdout",
     "output_type": "stream",
     "text": [
      "First: 1, Middle: [2, 3, 4, 5], Last: 6\n"
     ]
    }
   ],
   "source": [
    "def list(u): \n",
    "    first = u[0]\n",
    "    middle = u[1:-1]\n",
    "    last = u[-1]\n",
    "    print(\"First: {}, Middle: {}, Last: {}\".format(first, middle, last))\n",
    "\n",
    "\n",
    "list (u = [1, 2, 3, 4, 5, 6])"
   ]
  }
 ],
 "metadata": {
  "kernelspec": {
   "display_name": "Python 3 (ipykernel)",
   "language": "python",
   "name": "python3"
  },
  "language_info": {
   "codemirror_mode": {
    "name": "ipython",
    "version": 3
   },
   "file_extension": ".py",
   "mimetype": "text/x-python",
   "name": "python",
   "nbconvert_exporter": "python",
   "pygments_lexer": "ipython3",
   "version": "3.12.4"
  }
 },
 "nbformat": 4,
 "nbformat_minor": 5
}
